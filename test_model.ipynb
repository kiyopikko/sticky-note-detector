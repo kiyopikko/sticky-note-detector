{
 "cells": [
  {
   "cell_type": "code",
   "execution_count": 1,
   "source": [
    "import numpy as np\r\n",
    "import os\r\n",
    "import tensorflow as tf\r\n",
    "from pathlib import Path\r\n",
    "from matplotlib import pyplot as plt\r\n",
    "from PIL import Image\r\n",
    "from IPython.display import display"
   ],
   "outputs": [],
   "metadata": {}
  },
  {
   "cell_type": "code",
   "execution_count": 2,
   "source": [
    "from object_detection.utils import ops as utils_ops\r\n",
    "from object_detection.utils import label_map_util\r\n",
    "from object_detection.utils import visualization_utils as vis_util"
   ],
   "outputs": [],
   "metadata": {}
  },
  {
   "cell_type": "markdown",
   "source": [
    "## Loader"
   ],
   "metadata": {}
  },
  {
   "cell_type": "code",
   "execution_count": 3,
   "source": [
    "def load_model(model_name):\r\n",
    "    cwd_path= os.getcwd()\r\n",
    "    model_dir=os.path.join(cwd_path, model_name,'saved_model')\r\n",
    "    print('{}'.format(model_dir))\r\n",
    "    model=tf.saved_model.load(model_dir)\r\n",
    "    return model\r\n"
   ],
   "outputs": [],
   "metadata": {}
  },
  {
   "cell_type": "markdown",
   "source": [
    "## Label_map Loading"
   ],
   "metadata": {}
  },
  {
   "cell_type": "code",
   "execution_count": 4,
   "source": [
    "label_path='object_detection/training/object_detection.pbtxt'\r\n",
    "category_index=label_map_util.create_category_index_from_labelmap(label_path,use_display_name=True)"
   ],
   "outputs": [],
   "metadata": {}
  },
  {
   "cell_type": "markdown",
   "source": [
    "## Testing on one Image from testing images"
   ],
   "metadata": {}
  },
  {
   "cell_type": "code",
   "execution_count": 5,
   "source": [
    "test_img_dir=Path('object_detection/test_images')\r\n",
    "test_img_paths=sorted(list(test_img_dir.glob(\"*.jpg\")))"
   ],
   "outputs": [],
   "metadata": {}
  },
  {
   "cell_type": "markdown",
   "source": [
    "## Detection"
   ],
   "metadata": {}
  },
  {
   "cell_type": "code",
   "execution_count": 6,
   "source": [
    "model_name='frozen_model2'\r\n",
    "detection_model=load_model(model_name)\r\n",
    "##uncomment to check the model's input signature\r\n",
    "#detection_model.signatures['serving_default'].inputs\r\n",
    "#detection_model.signatures['serving_default'].output_dtypes\r\n",
    "#detection_model.signatures['serving_default'].output_shapes"
   ],
   "outputs": [
    {
     "output_type": "stream",
     "name": "stdout",
     "text": [
      "c:\\Users\\halak\\OneDrive\\Desktop\\models\\research\\frozen_model2\\saved_model\n"
     ]
    }
   ],
   "metadata": {}
  },
  {
   "cell_type": "code",
   "execution_count": 7,
   "source": [
    "def run_inference_for_single_image(model, image):\r\n",
    "    image = np.asarray(image)\r\n",
    "    input_tensor = tf.convert_to_tensor(image)\r\n",
    "    # The model expects a batch of images, so add an axis with `tf.newaxis`.\r\n",
    "    input_tensor = input_tensor[tf.newaxis,...]\r\n",
    "\r\n",
    "    # Run inference\r\n",
    "    model_fn = model.signatures['serving_default']\r\n",
    "    output_dict = model_fn(input_tensor)\r\n",
    "\r\n",
    "    # All outputs are batches tensors.\r\n",
    "    # Convert to numpy arrays, and take index [0] to remove the batch dimension.\r\n",
    "    # We're only interested in the first num_detections.\r\n",
    "    num_detections = int(output_dict.pop('num_detections'))\r\n",
    "    output_dict = {key:value[0, :num_detections].numpy() for key,value in output_dict.items()}\r\n",
    "    output_dict['num_detections'] = num_detections\r\n",
    "\r\n",
    "    # detection_classes should be ints.\r\n",
    "    output_dict['detection_classes'] = output_dict['detection_classes'].astype(np.int64)\r\n",
    "    \r\n",
    "    # Handle models with masks:\r\n",
    "    if 'detection_masks' in output_dict:\r\n",
    "        # Reframe the the bbox mask to the image size.\r\n",
    "        detection_masks_reframed = utils_ops.reframe_box_masks_to_image_masks(\r\n",
    "                output_dict['detection_masks'], output_dict['detection_boxes'],\r\n",
    "                image.shape[0], image.shape[1])      \r\n",
    "        detection_masks_reframed = tf.cast(detection_masks_reframed > 0.5,\r\n",
    "                                        tf.uint8)\r\n",
    "        output_dict['detection_masks_reframed'] = detection_masks_reframed.numpy()\r\n",
    "    \r\n",
    "    return output_dict"
   ],
   "outputs": [],
   "metadata": {}
  },
  {
   "cell_type": "code",
   "execution_count": 8,
   "source": [
    "def show_inference(model, image_path):\r\n",
    "  # the array based representation of the image will be used later in order to prepare the\r\n",
    "  # result image with boxes and labels on it.\r\n",
    "  image_np = np.array(Image.open(image_path))\r\n",
    "  # Actual detection.\r\n",
    "  output_dict = run_inference_for_single_image(model, image_np)\r\n",
    "  # Visualization of the results of a detection.\r\n",
    "  vis_util.visualize_boxes_and_labels_on_image_array(\r\n",
    "      image_np,\r\n",
    "      output_dict['detection_boxes'],\r\n",
    "      output_dict['detection_classes'],\r\n",
    "      output_dict['detection_scores'],\r\n",
    "      category_index,\r\n",
    "      instance_masks=output_dict.get('detection_masks_reframed', None),\r\n",
    "      use_normalized_coordinates=True,\r\n",
    "      line_thickness=8)\r\n",
    "\r\n",
    "  display(Image.fromarray(image_np))"
   ],
   "outputs": [],
   "metadata": {}
  },
  {
   "cell_type": "code",
   "execution_count": 9,
   "source": [
    "for img_path in test_img_paths:\r\n",
    "    show_inference(detection_model, img_path)"
   ],
   "outputs": [
    {
     "output_type": "display_data",
     "data": {
      "text/plain": [
       "<PIL.Image.Image image mode=RGB size=268x188 at 0x2CACC883D30>"
      ],
      "image/png": "[encoded data removed]"
     },
     "metadata": {}
    }
   ],
   "metadata": {}
  },
  {
   "cell_type": "code",
   "execution_count": null,
   "source": [],
   "outputs": [],
   "metadata": {}
  }
 ],
 "metadata": {
  "orig_nbformat": 4,
  "language_info": {
   "name": "python",
   "version": "3.9.6",
   "mimetype": "text/x-python",
   "codemirror_mode": {
    "name": "ipython",
    "version": 3
   },
   "pygments_lexer": "ipython3",
   "nbconvert_exporter": "python",
   "file_extension": ".py"
  },
  "kernelspec": {
   "name": "python3",
   "display_name": "Python 3.9.6 64-bit"
  },
  "interpreter": {
   "hash": "1dacd25f9c6d01bf61cf96d488bff5279d79b82b8895dbd612740cb159afd277"
  }
 },
 "nbformat": 4,
 "nbformat_minor": 2
}